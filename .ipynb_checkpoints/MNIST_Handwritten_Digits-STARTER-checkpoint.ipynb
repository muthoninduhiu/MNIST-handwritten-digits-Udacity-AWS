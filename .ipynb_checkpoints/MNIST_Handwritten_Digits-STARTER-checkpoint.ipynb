{
 "cells": [
  {
   "cell_type": "markdown",
   "metadata": {},
   "source": [
    "# Introduction\n",
    "\n",
    "In this project, you will build a neural network of your own design to evaluate the MNIST dataset.\n",
    "\n",
    "Some of the benchmark results on MNIST include can be found [on Yann LeCun's page](https://webcache.googleusercontent.com/search?q=cache:stAVPik6onEJ:yann.lecun.com/exdb/mnist) and include:\n",
    "\n",
    "88% [Lecun et al., 1998](https://hal.science/hal-03926082/document)\n",
    "\n",
    "95.3% [Lecun et al., 1998](https://hal.science/hal-03926082v1/document)\n",
    "\n",
    "99.65% [Ciresan et al., 2011](http://people.idsia.ch/~juergen/ijcai2011.pdf)\n",
    "\n",
    "\n",
    "MNIST is a great dataset for sanity checking your models, since the accuracy levels achieved by large convolutional neural networks and small linear models are both quite high. This makes it important to be familiar with the data.\n",
    "\n",
    "## Installation"
   ]
  },
  {
   "cell_type": "code",
   "execution_count": 1,
   "metadata": {},
   "outputs": [],
   "source": [
    "# Update the PATH to include the user installation directory. \n",
    "import os\n",
    "os.environ['PATH'] = f\"{os.environ['PATH']}:/root/.local/bin\"\n",
    "\n",
    "# Restart the Kernel before you move on to the next step."
   ]
  },
  {
   "cell_type": "markdown",
   "metadata": {},
   "source": [
    "#### Important: Restart the Kernel before you move on to the next step."
   ]
  },
  {
   "cell_type": "code",
   "execution_count": 1,
   "metadata": {},
   "outputs": [],
   "source": [
    "# Install requirements\n",
    "# !python -m pip install -r requirements.txt"
   ]
  },
  {
   "cell_type": "markdown",
   "metadata": {},
   "source": [
    "## Imports"
   ]
  },
  {
   "cell_type": "code",
   "execution_count": 3,
   "metadata": {},
   "outputs": [],
   "source": [
    "## This cell contains the essential imports you will need – DO NOT CHANGE THE CONTENTS! ##\n",
    "import torch\n",
    "import torch.nn as nn\n",
    "import torch.nn.functional as F\n",
    "import torch.optim as optim\n",
    "import torchvision\n",
    "import torchvision.transforms as transforms\n",
    "import matplotlib.pyplot as plt\n",
    "import numpy as np\n",
    "from torchvision import datasets\n",
    "from torch.utils.data import DataLoader"
   ]
  },
  {
   "cell_type": "markdown",
   "metadata": {},
   "source": [
    "### Choosing CPU to use"
   ]
  },
  {
   "cell_type": "code",
   "execution_count": 4,
   "metadata": {},
   "outputs": [
    {
     "data": {
      "text/plain": [
       "device(type='cuda')"
      ]
     },
     "execution_count": 4,
     "metadata": {},
     "output_type": "execute_result"
    }
   ],
   "source": [
    "device = torch.device('cuda' if torch.cuda.is_available() else 'cpu')\n",
    "device"
   ]
  },
  {
   "cell_type": "code",
   "execution_count": null,
   "metadata": {},
   "outputs": [],
   "source": [
    "!jupyter nbextension enable --py widgetsnbextension"
   ]
  },
  {
   "cell_type": "code",
   "execution_count": null,
   "metadata": {},
   "outputs": [],
   "source": [
    "!pip install --upgrade jupyter\n",
    "!pip install --upgrade ipywidgets"
   ]
  },
  {
   "cell_type": "markdown",
   "metadata": {},
   "source": [
    "## Load the Dataset\n",
    "\n",
    "Specify your transforms as a list if you intend to .\n",
    "The transforms module is already loaded as `transforms`.\n",
    "\n",
    "MNIST is fortunately included in the torchvision module.\n",
    "Then, you can create your dataset using the `MNIST` object from `torchvision.datasets` ([the documentation is available here](https://pytorch.org/vision/stable/datasets.html#mnist)).\n",
    "Make sure to specify `download=True`! \n",
    "\n",
    "Once your dataset is created, you'll also need to define a `DataLoader` from the `torch.utils.data` module for both the train and the test set."
   ]
  },
  {
   "cell_type": "code",
   "execution_count": 50,
   "metadata": {},
   "outputs": [
    {
     "name": "stdout",
     "output_type": "stream",
     "text": [
      "torch.Size([64, 1, 28, 28])\n"
     ]
    }
   ],
   "source": [
    "transform = transforms.Compose([transforms.ToTensor()])\n",
    "images_transform = transforms.Compose([transforms.ToTensor(), transforms.Normalize((0.5,), (0.5))])\n",
    "\n",
    "training_data = datasets.MNIST(root='/root/.local/bin', download=True, transform=images_transform)\n",
    "validation_data = datasets.MNIST(root='/root/.local/bin', download=False, transform=images_transform)\n",
    "\n",
    "train_loader = DataLoader(training_data, batch_size=64, shuffle=True)\n",
    "validation_loader = DataLoader(validation_data, batch_size=64)\n",
    "\n",
    "# Example usage of the data loader\n",
    "for images, labels in train_loader:\n",
    "    # images will be normalized and flattened\n",
    "    print(images.size())  \n",
    "    break"
   ]
  },
  {
   "cell_type": "markdown",
   "metadata": {},
   "source": [
    "## Justify your preprocessing\n",
    "\n",
    "In your own words, why did you choose the transforms you chose? If you didn't use any preprocessing steps, why not?"
   ]
  },
  {
   "cell_type": "markdown",
   "metadata": {},
   "source": [
    "#### I decided to first convert the 28 * 28 images into pytorch tensors with a value of between 0 and 1 then i decided to normalize the images in order to standardize the images so that the data distribution was more even using a mean of 0.5 and a standard deviation of 0.5 which centers the data around zero and scales it Then i loaded the data using torchvisons datasets along with the transforms then i could add the batch size of 64 and shuffle enabled in the training data using DataLoader.This ensures that the images are properly preprocessed and the data is loaded efficiently for training and validation"
   ]
  },
  {
   "cell_type": "markdown",
   "metadata": {},
   "source": [
    "## Explore the Dataset\n",
    "Using matplotlib, numpy, and torch, explore the dimensions of your data.\n",
    "\n",
    "You can view images using the `show5` function defined below – it takes a data loader as an argument.\n",
    "Remember that normalized images will look really weird to you! You may want to try changing your transforms to view images.\n",
    "Typically using no transforms other than `toTensor()` works well for viewing – but not as well for training your network.\n",
    "If `show5` doesn't work, go back and check your code for creating your data loaders and your training/test sets."
   ]
  },
  {
   "cell_type": "code",
   "execution_count": 51,
   "metadata": {},
   "outputs": [],
   "source": [
    "## This cell contains a function for showing 5 images from a dataloader – DO NOT CHANGE THE CONTENTS! ##\n",
    "def show5(img_loader):\n",
    "    dataiter = iter(img_loader)\n",
    "    \n",
    "    batch = next(dataiter)\n",
    "    labels = batch[1][0:5]\n",
    "    images = batch[0][0:5]\n",
    "    print(\"Image batch dimensions:\", images.shape)\n",
    "    print(\"Label batch dimensions:\", labels.shape)\n",
    "\n",
    "    # Check the dimensions of a single image\n",
    "    print(\"Single image dimensions:\", images[0].shape)\n",
    "\n",
    "    # Print first 5 labels\n",
    "    print(\"First 5 labels:\", labels[:5])\n",
    "    for i in range(5):\n",
    "        print(int(labels[i].detach()))\n",
    "    \n",
    "        image = images[i].numpy()\n",
    "        plt.imshow(image.T.squeeze().T)\n",
    "        plt.show()"
   ]
  },
  {
   "cell_type": "code",
   "execution_count": 52,
   "metadata": {},
   "outputs": [
    {
     "name": "stdout",
     "output_type": "stream",
     "text": [
      "Image batch dimensions: torch.Size([5, 1, 28, 28])\n",
      "Label batch dimensions: torch.Size([5])\n",
      "Single image dimensions: torch.Size([1, 28, 28])\n",
      "First 5 labels: tensor([6, 3, 8, 2, 4])\n",
      "6\n"
     ]
    },
    {
     "data": {
      "image/png": "[encoded data removed]",
      "text/plain": [
       "<Figure size 432x288 with 1 Axes>"
      ]
     },
     "metadata": {
      "needs_background": "light"
     },
     "output_type": "display_data"
    },
    {
     "name": "stdout",
     "output_type": "stream",
     "text": [
      "3\n"
     ]
    },
    {
     "data": {
      "image/png": "[encoded data removed]",
      "text/plain": [
       "<Figure size 432x288 with 1 Axes>"
      ]
     },
     "metadata": {
      "needs_background": "light"
     },
     "output_type": "display_data"
    },
    {
     "name": "stdout",
     "output_type": "stream",
     "text": [
      "8\n"
     ]
    },
    {
     "data": {
      "image/png": "[encoded data removed]",
      "text/plain": [
       "<Figure size 432x288 with 1 Axes>"
      ]
     },
     "metadata": {
      "needs_background": "light"
     },
     "output_type": "display_data"
    },
    {
     "name": "stdout",
     "output_type": "stream",
     "text": [
      "2\n"
     ]
    },
    {
     "data": {
      "image/png": "[encoded data removed]",
      "text/plain": [
       "<Figure size 432x288 with 1 Axes>"
      ]
     },
     "metadata": {
      "needs_background": "light"
     },
     "output_type": "display_data"
    },
    {
     "name": "stdout",
     "output_type": "stream",
     "text": [
      "4\n"
     ]
    },
    {
     "data": {
      "image/png": "[encoded data removed]",
      "text/plain": [
       "<Figure size 432x288 with 1 Axes>"
      ]
     },
     "metadata": {
      "needs_background": "light"
     },
     "output_type": "display_data"
    }
   ],
   "source": [
    "# Explore data\n",
    "show5(train_loader)"
   ]
  },
  {
   "cell_type": "markdown",
   "metadata": {},
   "source": [
    "## Build your Neural Network\n",
    "Using the layers in `torch.nn` (which has been imported as `nn`) and the `torch.nn.functional` module (imported as `F`), construct a neural network based on the parameters of the dataset.\n",
    "Use any architecture you like. \n",
    "\n",
    "*Note*: If you did not flatten your tensors in your transforms or as part of your preprocessing and you are using only `Linear` layers, make sure to use the `Flatten` layer in your network!"
   ]
  },
  {
   "cell_type": "code",
   "execution_count": 53,
   "metadata": {},
   "outputs": [
    {
     "name": "stdout",
     "output_type": "stream",
     "text": [
      "HandwrittenNN(\n",
      "  (layer1): Linear(in_features=784, out_features=512, bias=True)\n",
      "  (dropout1): Dropout(p=0.2, inplace=False)\n",
      "  (layer2): Linear(in_features=512, out_features=256, bias=True)\n",
      "  (dropout2): Dropout(p=0.2, inplace=False)\n",
      "  (layer3): Linear(in_features=256, out_features=128, bias=True)\n",
      "  (dropout3): Dropout(p=0.2, inplace=False)\n",
      "  (layer4): Linear(in_features=128, out_features=64, bias=True)\n",
      "  (dropout4): Dropout(p=0.2, inplace=False)\n",
      "  (output_layer): Linear(in_features=64, out_features=10, bias=True)\n",
      ")\n"
     ]
    }
   ],
   "source": [
    "## DONE\n",
    "class HandwrittenNN(nn.Module):\n",
    "    def __init__(self):\n",
    "        super(HandwrittenNN, self).__init__()\n",
    "        self.activation = F.relu\n",
    "        self.layer1 = nn.Linear(28 * 28, 512)\n",
    "        self.dropout1 = nn.Dropout(0.2)\n",
    "        self.layer2 = nn.Linear(512, 256)\n",
    "        self.dropout2 = nn.Dropout(0.2)\n",
    "        self.layer3 = nn.Linear(256, 128)\n",
    "        self.dropout3 = nn.Dropout(0.2)\n",
    "        self.layer4 = nn.Linear(128, 64)\n",
    "        self.dropout4 = nn.Dropout(0.2)\n",
    "        self.output_layer = nn.Linear(64, 10)\n",
    "    \n",
    "    def forward(self, x):\n",
    "        x = x.view(-1, 28 * 28)  # Flatten the input\n",
    "        x = self.activation(self.layer1(x))\n",
    "        x = self.dropout1(x)\n",
    "        x = self.activation(self.layer2(x))\n",
    "        x = self.dropout2(x)\n",
    "        x = self.activation(self.layer3(x))\n",
    "        x = self.dropout3(x)\n",
    "        x = self.activation(self.layer4(x))\n",
    "        x = self.dropout4(x)\n",
    "        x = self.output_layer(x)\n",
    "        return x\n",
    "\n",
    "# Example instantiation of the model\n",
    "model = HandwrittenNN()\n",
    "model.to(device)\n",
    "# Example to show the architecture\n",
    "print(model)"
   ]
  },
  {
   "cell_type": "markdown",
   "metadata": {},
   "source": [
    "Specify a loss function and an optimizer, and instantiate the model.\n",
    "\n",
    "If you use a less common loss function, please note why you chose that loss function in a comment."
   ]
  },
  {
   "cell_type": "code",
   "execution_count": 54,
   "metadata": {},
   "outputs": [],
   "source": [
    "optimizer = optim.Adam(params=model.parameters(), lr=0.001)\n",
    "criterion = nn.CrossEntropyLoss()"
   ]
  },
  {
   "cell_type": "markdown",
   "metadata": {},
   "source": [
    "## Running your Neural Network\n",
    "Use whatever method you like to train your neural network, and ensure you record the average loss at each epoch. \n",
    "Don't forget to use `torch.device()` and the `.to()` method for both your model and your data if you are using GPU!\n",
    "\n",
    "If you want to print your loss **during** each epoch, you can use the `enumerate` function and print the loss after a set number of batches. 250 batches works well for most people!"
   ]
  },
  {
   "cell_type": "code",
   "execution_count": 55,
   "metadata": {},
   "outputs": [
    {
     "name": "stdout",
     "output_type": "stream",
     "text": [
      "Epoch 1 Training Accuracy: 54.64% Training Loss: 0.4680\n",
      "Epoch 1 Validation Accuracy: 74.44% Validation Loss: 0.2374\n",
      "Epoch 2 Training Accuracy: 59.79% Training Loss: 0.2272\n",
      "Epoch 2 Validation Accuracy: 76.76% Validation Loss: 0.1391\n",
      "Epoch 3 Training Accuracy: 60.63% Training Loss: 0.1824\n",
      "Epoch 3 Validation Accuracy: 77.24% Validation Loss: 0.1165\n",
      "Epoch 4 Training Accuracy: 61.11% Training Loss: 0.1563\n",
      "Epoch 4 Validation Accuracy: 77.22% Validation Loss: 0.1160\n",
      "Epoch 5 Training Accuracy: 61.34% Training Loss: 0.1415\n",
      "Epoch 5 Validation Accuracy: 77.74% Validation Loss: 0.0901\n",
      "Epoch 6 Training Accuracy: 61.58% Training Loss: 0.1299\n",
      "Epoch 6 Validation Accuracy: 77.91% Validation Loss: 0.0834\n",
      "Epoch 7 Training Accuracy: 61.76% Training Loss: 0.1218\n",
      "Epoch 7 Validation Accuracy: 78.06% Validation Loss: 0.0804\n",
      "Epoch 8 Training Accuracy: 61.90% Training Loss: 0.1114\n",
      "Epoch 8 Validation Accuracy: 78.43% Validation Loss: 0.0645\n",
      "Epoch 9 Training Accuracy: 62.01% Training Loss: 0.1050\n",
      "Epoch 9 Validation Accuracy: 78.74% Validation Loss: 0.0497\n",
      "Epoch 10 Training Accuracy: 62.09% Training Loss: 0.1007\n",
      "Epoch 10 Validation Accuracy: 78.59% Validation Loss: 0.0609\n",
      "Epoch 11 Training Accuracy: 62.20% Training Loss: 0.0960\n",
      "Epoch 11 Validation Accuracy: 78.94% Validation Loss: 0.0424\n",
      "Epoch 12 Training Accuracy: 62.22% Training Loss: 0.0927\n",
      "Epoch 12 Validation Accuracy: 78.76% Validation Loss: 0.0490\n",
      "Epoch 13 Training Accuracy: 62.25% Training Loss: 0.0905\n",
      "Epoch 13 Validation Accuracy: 78.73% Validation Loss: 0.0489\n",
      "Epoch 14 Training Accuracy: 62.31% Training Loss: 0.0890\n",
      "Epoch 14 Validation Accuracy: 78.79% Validation Loss: 0.0496\n",
      "Epoch 15 Training Accuracy: 62.46% Training Loss: 0.0848\n",
      "Epoch 15 Validation Accuracy: 79.03% Validation Loss: 0.0372\n",
      "Epoch 16 Training Accuracy: 62.42% Training Loss: 0.0843\n",
      "Epoch 16 Validation Accuracy: 79.06% Validation Loss: 0.0384\n",
      "Epoch 17 Training Accuracy: 62.50% Training Loss: 0.0792\n",
      "Epoch 17 Validation Accuracy: 79.21% Validation Loss: 0.0305\n",
      "Epoch 18 Training Accuracy: 62.59% Training Loss: 0.0737\n",
      "Epoch 18 Validation Accuracy: 79.19% Validation Loss: 0.0298\n",
      "Epoch 19 Training Accuracy: 62.52% Training Loss: 0.0768\n",
      "Epoch 19 Validation Accuracy: 79.18% Validation Loss: 0.0326\n",
      "Epoch 20 Training Accuracy: 62.65% Training Loss: 0.0706\n",
      "Epoch 20 Validation Accuracy: 79.29% Validation Loss: 0.0303\n",
      "Epoch 21 Training Accuracy: 62.68% Training Loss: 0.0689\n",
      "Epoch 21 Validation Accuracy: 79.36% Validation Loss: 0.0256\n",
      "Epoch 22 Training Accuracy: 62.71% Training Loss: 0.0677\n",
      "Epoch 22 Validation Accuracy: 79.15% Validation Loss: 0.0345\n",
      "Epoch 23 Training Accuracy: 62.72% Training Loss: 0.0670\n",
      "Epoch 23 Validation Accuracy: 79.23% Validation Loss: 0.0298\n",
      "Epoch 24 Training Accuracy: 62.73% Training Loss: 0.0677\n",
      "Epoch 24 Validation Accuracy: 79.50% Validation Loss: 0.0217\n",
      "Epoch 25 Training Accuracy: 62.72% Training Loss: 0.0679\n",
      "Epoch 25 Validation Accuracy: 79.48% Validation Loss: 0.0214\n"
     ]
    }
   ],
   "source": [
    "num_epochs= 25\n",
    "train_loss_history = list()\n",
    "validation_loss_history = list()\n",
    "for epoch in range(num_epochs):\n",
    "    #put model in training mode\n",
    "    model.train()\n",
    "    train_loss = 0.0\n",
    "    train_correct = 0\n",
    "    for i, data in enumerate(train_loader):\n",
    "        inputs, labels = data\n",
    "        if torch.cuda.is_available():\n",
    "            inputs,labels = inputs.cuda(), labels.cuda()\n",
    "        # zeroout the gradient\n",
    "        optimizer.zero_grad()\n",
    "        # get output soas tocalculate loss with criterion\n",
    "        output = model(inputs)\n",
    "        loss = criterion(output, labels)\n",
    "        # backpropagate with the backwardmethod and take a step with the optimizer\n",
    "        loss.backward()\n",
    "        optimizer.step()\n",
    "        #_ hold the maximum values for each row which we dont need instead we need indices if the max values that correspond to the predicted class labels\n",
    "        _, preds = torch.max(output.data, 1)\n",
    "        train_correct += (preds==labels).sum().item()\n",
    "        train_loss += loss.item()\n",
    "    print(f'Epoch {epoch + 1} Training Accuracy: {train_correct/len(train_loader):.2f}% Training Loss: {train_loss/len(train_loader):.4f}')\n",
    "    train_loss_history.append(train_loss/len(train_loader))\n",
    "\n",
    "    val_loss = 0.0\n",
    "    val_correct = 0\n",
    "    #put model in evaluation mode\n",
    "    model.eval()\n",
    "    #avoid tracking gradients during validation\n",
    "    with torch.no_grad():\n",
    "        for inputs,labels in validation_loader:\n",
    "            if torch.cuda.is_available():\n",
    "                inputs,labels = inputs.cuda(), labels.cuda() \n",
    "            output = model(inputs)\n",
    "            loss = criterion(output, labels)\n",
    "            _, preds = torch.max(output.data, 1)\n",
    "            val_correct += (preds==labels).sum().item()\n",
    "            val_loss += loss.item()       \n",
    "    print(f'Epoch {epoch + 1} Validation Accuracy: {val_correct/len(validation_loader):.2f}% Validation Loss: {val_loss/len(validation_loader):.4f}')\n",
    "    validation_loss_history.append(val_loss/len(validation_loader))"
   ]
  },
  {
   "cell_type": "markdown",
   "metadata": {},
   "source": [
    "Plot the training loss (and validation loss/accuracy, if recorded)."
   ]
  },
  {
   "cell_type": "code",
   "execution_count": 56,
   "metadata": {},
   "outputs": [
    {
     "data": {
      "image/png": "[encoded data removed]",
      "text/plain": [
       "<Figure size 432x288 with 1 Axes>"
      ]
     },
     "metadata": {
      "needs_background": "light"
     },
     "output_type": "display_data"
    }
   ],
   "source": [
    "## DONE ##\n",
    "plt.plot(train_loss_history, label=\"Training loss\")\n",
    "plt.plot(validation_loss_history, label=\"Validation loss\")\n",
    "plt.legend()\n",
    "plt.show()"
   ]
  },
  {
   "cell_type": "markdown",
   "metadata": {},
   "source": [
    "## Testing your model\n",
    "Using the previously created `DataLoader` for the test set, compute the percentage of correct predictions using the highest probability prediction. \n",
    "\n",
    "If your accuracy is over 90%, great work, but see if you can push a bit further! \n",
    "If your accuracy is under 90%, you'll need to make improvements.\n",
    "Go back and check your model architecture, loss function, and optimizer to make sure they're appropriate for an image classification task."
   ]
  },
  {
   "cell_type": "code",
   "execution_count": 59,
   "metadata": {},
   "outputs": [
    {
     "name": "stdout",
     "output_type": "stream",
     "text": [
      "Test Accuracy: 97.93% Test Loss: 0.0757\n"
     ]
    }
   ],
   "source": [
    "## DONE ##\n",
    "# Load the test dataset\n",
    "test_data = datasets.MNIST(root='/root/.local/bin', train=False, transform=images_transform, download=True)\n",
    "test_loader = DataLoader(test_data, batch_size=64)\n",
    "\n",
    "# Evaluate the model\n",
    "def evaluate_model(model, data_loader, criterion, device):\n",
    "    model.eval()  # Set the model to evaluation mode\n",
    "    test_loss = 0.0\n",
    "    correct = 0\n",
    "    total = 0\n",
    "    with torch.no_grad():  # Disable gradient calculation\n",
    "        for inputs, labels in data_loader:\n",
    "            inputs, labels = inputs.to(device), labels.to(device)\n",
    "            outputs = model(inputs)\n",
    "            loss = criterion(outputs, labels)\n",
    "            test_loss += loss.item()\n",
    "            _, preds = torch.max(outputs, 1)\n",
    "            correct += (preds == labels).sum().item()\n",
    "            total += labels.size(0)\n",
    "    \n",
    "    avg_loss = test_loss / len(data_loader)\n",
    "    accuracy = correct / total * 100\n",
    "    return avg_loss, accuracy\n",
    "\n",
    "# Evaluate the model on the test dataset\n",
    "test_loss, test_acc = evaluate_model(model, test_loader, criterion, device)\n",
    "print(f'Test Accuracy: {test_acc:.2f}% Test Loss: {test_loss:.4f}')"
   ]
  },
  {
   "cell_type": "markdown",
   "metadata": {},
   "source": [
    "## Improving your model\n",
    "\n",
    "Once your model is done training, try tweaking your hyperparameters and training again below to improve your accuracy on the test set!"
   ]
  },
  {
   "cell_type": "markdown",
   "metadata": {},
   "source": [
    "#### I changed the batch_size from 28 to 64\n",
    "#### I added one more hidden layer the Neural network \n",
    "#### I also added dropout in the layers with a probability 0.2\n",
    "#### With these changes the model worked quite well and i saw no need to add more improvements :-)"
   ]
  },
  {
   "cell_type": "markdown",
   "metadata": {},
   "source": [
    "## Saving your model\n",
    "Using `torch.save`, save your model for future loading."
   ]
  },
  {
   "cell_type": "code",
   "execution_count": null,
   "metadata": {},
   "outputs": [],
   "source": [
    "## DONE ##\n",
    "torch.save(model, 'entire_model.pth')"
   ]
  },
  {
   "cell_type": "markdown",
   "metadata": {},
   "source": [
    "In Yann LeCun's webpage, which hosts benchmark results for the MNIST dataset, often showcases models achieving accuracies ranging from 95% to 99%. With an 97.93% accuracy puts my model in the upper echelon of performances reported for this dataset. It indicates that my model is able to effectively classify handwritten digits with a high level of accuracy. I really enjoyed reaserching this project and working on it so i cant forget to credit google an chatgpt for the useful resources."
   ]
  },
  {
   "cell_type": "markdown",
   "metadata": {},
   "source": [
    "## Loading the checkpoint\n",
    "At this point it's good to write a function that can load a checkpoint and rebuild the model. That way you can come back to this project and keep working on it without having to retrain the network."
   ]
  },
  {
   "cell_type": "code",
   "execution_count": null,
   "metadata": {},
   "outputs": [],
   "source": [
    "# DONE: Write a function that loads a checkpoint and rebuilds the model\n",
    "def load_checkpoint(file_path):\n",
    "    checkpoint = torch.load(file_path)\n",
    "    model.classifier =nn.Sequential(\n",
    "        nn.Linear(25088,512),\n",
    "        nn.ReLU(),\n",
    "        nn.Dropout(0.2),\n",
    "        nn.Linear(512,102),\n",
    "        nn.LogSoftmax(dim=1)) \n",
    "    #print(checkpoint)\n",
    "    model.load_state_dict(checkpoint['state_dict'])\n",
    "     # Create an optimizer with the same parameters as used during training\n",
    "    optimizer = optim.Adam(model.classifier.parameters(),lr = 0.0001)\n",
    "\n",
    "    # Load the optimizer state dictionary\n",
    "    optimizer.load_state_dict(checkpoint['optimizer_state_dict'])\n",
    "\n",
    "    # Load other model-related information like class_to_idx\n",
    "    class_to_idx = checkpoint['class_to_idx']\n",
    "    \n",
    "    #Load the number of epochs\n",
    "    epochs = checkpoint['epochs']\n",
    "\n",
    "    return model, optimizer, epochs, class_to_idx"
   ]
  },
  {
   "cell_type": "markdown",
   "metadata": {},
   "source": [
    "## Inference for classification\n",
    "Now you'll write a function to use a trained network for inference. That is, you'll pass an image into the network and predict the class of the flower in the image. Write a function called predict that takes an image and a model, then returns the top  \n",
    "K\n",
    "  most likely classes along with the probabilities. It should look like\n",
    "\n",
    "probs, classes = predict(image_path, model)\n",
    "print(probs)\n",
    "print(classes)\n",
    "> [ 0.01558163  0.01541934  0.01452626  0.01443549  0.01407339]\n",
    "> ['70', '3', '45', '62', '55']\n",
    "First you'll need to handle processing the input image such that it can be used in your network.\n",
    "\n",
    "## Image Preprocessing\n",
    "You'll want to use PIL to load the image (documentation). It's best to write a function that preprocesses the image so it can be used as input for the model. This function should process the images in the same manner used for training.\n",
    "\n",
    "First, resize the images where the shortest side is 256 pixels, keeping the aspect ratio. This can be done with the thumbnail or resize methods. Then you'll need to crop out the center 28X28 portion of the image.\n",
    "\n",
    "As before, the network expects the images to be normalized in a specific way. For the means, it's [0.5] and for the standard deviations [0.229]."
   ]
  },
  {
   "cell_type": "code",
   "execution_count": null,
   "metadata": {},
   "outputs": [],
   "source": [
    "def process_image(image):\n",
    "    ''' Scales, crops, and normalizes a PIL image for a PyTorch model,\n",
    "        returns an Numpy array\n",
    "    '''\n",
    "    image_transform =  transforms.Compose([\n",
    "    transforms.ToTensor(),\n",
    "    transforms.Normalize(mean=0.5, std=0.5)])\n",
    "    image = image_transform(image)\n",
    "    return image"
   ]
  },
  {
   "cell_type": "code",
   "execution_count": null,
   "metadata": {},
   "outputs": [],
   "source": [
    "image = Image.open('assets/photo.jpeg')\n",
    "image.size\n",
    "processed_image = process_image(image)\n",
    "processed_image.shape"
   ]
  },
  {
   "cell_type": "markdown",
   "metadata": {},
   "source": [
    "To check your work, the function below converts a PyTorch tensor and displays it in the notebook. If your process_image function works, running the output through this function should return the original image (except for the cropped out portions)."
   ]
  },
  {
   "cell_type": "code",
   "execution_count": null,
   "metadata": {},
   "outputs": [],
   "source": [
    "def imshow(image, ax=None, title=None):\n",
    "    \"\"\"Imshow for Tensor.\"\"\"\n",
    "    if ax is None:\n",
    "        fig, ax = plt.subplots()\n",
    "    \n",
    "    # PyTorch tensors assume the color channel is the first dimension\n",
    "    # but matplotlib assumes is the third dimension\n",
    "    image = image.numpy().transpose((1, 2, 0))\n",
    "    \n",
    "    # Image needs to be clipped between 0 and 1 or it looks like noise when displayed\n",
    "    image = np.clip(image, 0, 1)\n",
    "    \n",
    "    ax.imshow(image)\n",
    "    \n",
    "    return ax"
   ]
  },
  {
   "cell_type": "markdown",
   "metadata": {},
   "source": [
    "## Class Prediction\n",
    "Once you can get images in the correct format, it's time to write a function for making predictions with your model. A common practice is to predict the top 5 or so (usually called top-K) most probable classes. You'll want to calculate the class probabilities then find the K largest values.To get the top K largest values in a tensor use x.topk(k). This method returns both the highest k probabilities and the indices of those probabilities corresponding to the classes. You need to convert from these indices to the actual class labels using class_to_idx which hopefully you added to the model or from an ImageFolder you used to load the data (see here). Make sure to invert the dictionary so you get a mapping from index to class as well. Again, this method should take a path to an image and a model checkpoint, then return the probabilities and classes.\n",
    "\n",
    "\n",
    "probs, classes = predict(image_path, model)\n",
    "print(probs)\n",
    "print(classes)\n",
    "> [ 0.01558163  0.01541934  0.01452626  0.01443549  0.01407339]\n",
    "> ['70', '3', '45', '62', '55']"
   ]
  },
  {
   "cell_type": "code",
   "execution_count": null,
   "metadata": {},
   "outputs": [],
   "source": [
    "def predict(image_path, model, topk=5):\n",
    "    ''' Predict the class (or classes) of an image using a trained deep learning model.\n",
    "    '''\n",
    "    image_path = Image.open(image_path)\n",
    "    processed_image = process_image(image_path)\n",
    "    device = torch.device(\"cuda:0\" if torch.cuda.is_available() else \"cpu\")\n",
    "    model.to(device)\n",
    "    processed_image = processed_image.to(device)\n",
    "    model.eval()\n",
    "    with torch.no_grad():\n",
    "        processed_image = processed_image.unsqueeze(0)\n",
    "        logits = model(processed_image)\n",
    "    # Convert model output to probabilities and class indices\n",
    "    probabilities = torch.exp(logits)\n",
    "    top_probabilities, top_indices = probabilities.topk(topk)\n",
    "    \n",
    "    # Convert indices to class labels\n",
    "    idx_to_class = {v: k for k, v in class_to_idx.items()}\n",
    "    top_classes = [idx_to_class[idx.item()] for idx in top_indices[0]]\n",
    "    \n",
    "    return top_probabilities[0].cpu().numpy(), top_classes"
   ]
  },
  {
   "cell_type": "code",
   "execution_count": null,
   "metadata": {},
   "outputs": [],
   "source": [
    "image_path = 'assets/photo.jpeg'\n",
    "file_path = 'check2.pth'\n",
    "# proccesed_image = process_image(image_path)\n",
    "model, optimizer, epochs, class_to_idx= load_checkpoint(file_path)\n",
    "#print(model)\n",
    "probs,classes = predict(image_path,model,topk=5)\n",
    "print(probs)\n",
    "print(classes)"
   ]
  },
  {
   "cell_type": "markdown",
   "metadata": {},
   "source": [
    "## Label mapping\n",
    "You'll also need to load in a mapping from category label to category name. You can find this in the file cat_to_name.json. It's a JSON object which you can read in with the json module. This will give you a dictionary mapping the integer encoded categories to the actual digit."
   ]
  },
  {
   "cell_type": "code",
   "execution_count": null,
   "metadata": {},
   "outputs": [],
   "source": [
    "import json\n",
    "\n",
    "with open('cat_to_name.json', 'r') as f:\n",
    "    cat_to_name = json.load(f)"
   ]
  },
  {
   "cell_type": "code",
   "execution_count": null,
   "metadata": {},
   "outputs": [],
   "source": [
    " # Plot the image\n",
    "image = Image.open('assets/photo.jpeg')\n",
    "plt.figure(figsize=(10, 5))\n",
    "ax = plt.subplot(2, 1, 1)\n",
    "ax.axis('off')\n",
    "ax.set_title(class_names[0])\n",
    "plt.imshow(image)\n",
    "    \n",
    "# Plot the bar graph of class probabilities\n",
    "plt.figure(figsize=(6, 5))\n",
    "plt.subplot(2, 1, 2)\n",
    "plt.barh(class_names[::-1], probs[::-1])\n",
    "plt.xlabel('Probability')\n",
    "plt.show();"
   ]
  }
 ],
 "metadata": {
  "kernelspec": {
   "display_name": "Python 3 (ipykernel)",
   "language": "python",
   "name": "python3"
  },
  "language_info": {
   "codemirror_mode": {
    "name": "ipython",
    "version": 3
   },
   "file_extension": ".py",
   "mimetype": "text/x-python",
   "name": "python",
   "nbconvert_exporter": "python",
   "pygments_lexer": "ipython3",
   "version": "3.9.13"
  }
 },
 "nbformat": 4,
 "nbformat_minor": 4
}
